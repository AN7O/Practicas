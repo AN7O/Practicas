{
  "metadata": {
    "kernelspec": {
      "display_name": "Pyolite",
      "language": "python",
      "name": "python"
    },
    "language_info": {
      "codemirror_mode": {
        "name": "python",
        "version": 3
      },
      "file_extension": ".py",
      "mimetype": "text/x-python",
      "name": "python",
      "nbconvert_exporter": "python",
      "pygments_lexer": "ipython3",
      "version": "3.8"
    }
  },
  "nbformat_minor": 4,
  "nbformat": 4,
  "cells": [
    {
      "cell_type": "code",
      "source": "#Datos a utilizar: \nnombres = ['Agustin',\n           'Alan',\n           'Andres',\n           'Ariadna',\n           'Bautista',\n           'CAROLINA',\n           'CESAR',\n           'David',\n           'Diego',\n           'Dolores',\n           'DYLAN',\n           'ELIANA',\n           'Emanuel',\n           'Fabian',\n           'Facundo',\n           'Facundo',\n           'FEDERICO',\n           'FEDERICO',\n           'GONZALO',\n           'Gregorio',\n           'Ignacio',\n           'Jonathan',\n           'Jonathan',\n           'Jorge',\n           'JOSE',\n           'JUAN',\n           'Juan',\n           'Juan',\n           'Julian',\n           'Julieta',\n           'LAUTARO',\n           'Leonel',\n           'LUIS',\n           'Luis',\n           'Marcos',\n           'Maria',\n           'MATEO',\n           'Matias',\n           'Nicolas',\n           'NICOLAS',\n           'Noelia',\n           'Pablo',\n           'Priscila',\n           'TOMAS',\n           'Tomas',\n           'Ulises',\n           'Yanina']\nnotas_1 = [81,\n           60,\n           72,\n           24,\n           15,\n           91,\n           12,\n           70,\n           29,\n           42,\n           16,\n           3,\n           35,\n           67,\n           10,\n           57,\n           11,\n           69,\n           12,\n           77,\n           13,\n           86,\n           48,\n           65,\n           51,\n           41,\n           87,\n           43,\n           10,\n           87,\n           91,\n           15,\n           44,\n           85,\n           73,\n           37,\n           42,\n           95,\n           18,\n           7,\n           74,\n           60,\n           9,\n           65,\n           93,\n           63,\n           74]\nnotas_2 = [30,\n           95,\n           28,\n           84,\n           84,\n           43,\n           66,\n           51,\n           4,\n           11,\n           58,\n           10,\n           13,\n           34,\n           96,\n           71,\n           86,\n           37,\n           64,\n           13,\n           8,\n           87,\n           14,\n           14,\n           49,\n           27,\n           55,\n           69,\n           77,\n           59,\n           57,\n           40,\n           96,\n           24,\n           30,\n           73,\n           95,\n           19,\n           47,\n           15,\n           31,\n           39,\n           15,\n           74,\n           33,\n           57,\n           10]\n",
      "metadata": {
        "tags": [],
        "jupyter": {
          "source_hidden": true
        },
        "trusted": true
      },
      "execution_count": 6,
      "outputs": []
    },
    {
      "cell_type": "code",
      "source": "#Se define una funcion para calcular un promedio, que nos servirá para el desarrollo del ejercicio.\n\ndef calcular_promedio(d):\n    \"\"\"Retorna un promedio a partir de un diccionario con elementos numericos\"\"\"\n    suma = 0\n    for key in d:\n        suma += d[key]\n    return suma / len(d)",
      "metadata": {
        "tags": [],
        "trusted": true
      },
      "execution_count": 7,
      "outputs": []
    },
    {
      "cell_type": "code",
      "source": "#Programa principal:\n#Se define un diccionario, para operar con los datos, por comprensión:\n\nestudiantes = {nombre: nota1 + nota2 for nombre,\n               nota1, nota2 in zip(nombres, notas_1, notas_2)}\n               \n#A cada nombre de la lista 'nombres', se le asigna la suma entre el valor almacenado en \n#notas_1[n] y notas_2[n]",
      "metadata": {
        "tags": [],
        "trusted": true
      },
      "execution_count": null,
      "outputs": []
    },
    {
      "cell_type": "code",
      "source": "#Se calcula el promedio con la funcion previamente definida:\npromedio = calcular_promedio(estudiantes)\n\n#Se crea una lista, con aquellos alumnos cuyas notas estan por debajo del promedio, por comprensión:\ndebajo_del_promedio = [alumno for alumno in estudiantes if estudiantes[alumno] < promedio]",
      "metadata": {},
      "execution_count": null,
      "outputs": []
    },
    {
      "cell_type": "code",
      "source": "#Finalmente se imprimen los resultados: (Promedio de notas y alumnos con notas por debajo del promedio)\nprint('El promedio de las notas fue: ', promedio, '\\n',\n      'Alumnos por debajo del promedio: ', debajo_del_promedio)",
      "metadata": {
        "trusted": true
      },
      "execution_count": null,
      "outputs": []
    }
  ]
}